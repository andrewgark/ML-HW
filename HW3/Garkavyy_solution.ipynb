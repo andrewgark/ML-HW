{
 "cells": [
  {
   "cell_type": "markdown",
   "metadata": {
    "deletable": true,
    "editable": true
   },
   "source": [
    "# Гаркавый Андрей, 494 группа"
   ]
  },
  {
   "cell_type": "markdown",
   "metadata": {},
   "source": [
    "Задание - пройти контест на Kaggle."
   ]
  },
  {
   "cell_type": "code",
   "execution_count": 22,
   "metadata": {
    "collapsed": true,
    "deletable": true,
    "editable": true
   },
   "outputs": [],
   "source": [
    "from sklearn.model_selection import TimeSeriesSplit\n",
    "from sklearn.ensemble import BaggingRegressor, RandomForestRegressor, GradientBoostingRegressor\n",
    "from sklearn.neighbors import KNeighborsRegressor\n",
    "from sklearn.tree import DecisionTreeRegressor\n",
    "import numpy as np\n",
    "import pandas as pd\n",
    "import matplotlib.pyplot as plt"
   ]
  },
  {
   "cell_type": "code",
   "execution_count": 2,
   "metadata": {
    "collapsed": true,
    "deletable": true,
    "editable": true
   },
   "outputs": [],
   "source": [
    "train = pd.read_csv(\"train.tsv\")\n",
    "test = pd.read_csv(\"test.tsv\")\n",
    "sample_submission = pd.read_csv(\"sample_submission.tsv\")"
   ]
  },
  {
   "cell_type": "code",
   "execution_count": 3,
   "metadata": {
    "collapsed": false,
    "deletable": true,
    "editable": true
   },
   "outputs": [
    {
     "data": {
      "text/html": [
       "<div>\n",
       "<table border=\"1\" class=\"dataframe\">\n",
       "  <thead>\n",
       "    <tr style=\"text-align: right;\">\n",
       "      <th></th>\n",
       "      <th>Num</th>\n",
       "      <th>y</th>\n",
       "      <th>year</th>\n",
       "      <th>week</th>\n",
       "      <th>shift</th>\n",
       "      <th>item_id</th>\n",
       "      <th>f1</th>\n",
       "      <th>f2</th>\n",
       "      <th>f3</th>\n",
       "      <th>f4</th>\n",
       "      <th>...</th>\n",
       "      <th>f51</th>\n",
       "      <th>f52</th>\n",
       "      <th>f53</th>\n",
       "      <th>f54</th>\n",
       "      <th>f55</th>\n",
       "      <th>f56</th>\n",
       "      <th>f57</th>\n",
       "      <th>f58</th>\n",
       "      <th>f59</th>\n",
       "      <th>f60</th>\n",
       "    </tr>\n",
       "  </thead>\n",
       "  <tbody>\n",
       "    <tr>\n",
       "      <th>0</th>\n",
       "      <td>0</td>\n",
       "      <td>123438</td>\n",
       "      <td>2012</td>\n",
       "      <td>52</td>\n",
       "      <td>1</td>\n",
       "      <td>20442076</td>\n",
       "      <td>4915.0</td>\n",
       "      <td>38056.0</td>\n",
       "      <td>40185.0</td>\n",
       "      <td>45733.0</td>\n",
       "      <td>...</td>\n",
       "      <td>39423.0</td>\n",
       "      <td>41765.0</td>\n",
       "      <td>52590.0</td>\n",
       "      <td>31452.0</td>\n",
       "      <td>44420.0</td>\n",
       "      <td>41865.0</td>\n",
       "      <td>52705.0</td>\n",
       "      <td>36102.0</td>\n",
       "      <td>44163.0</td>\n",
       "      <td>45239.0</td>\n",
       "    </tr>\n",
       "    <tr>\n",
       "      <th>1</th>\n",
       "      <td>1</td>\n",
       "      <td>58410</td>\n",
       "      <td>2012</td>\n",
       "      <td>52</td>\n",
       "      <td>1</td>\n",
       "      <td>20441997</td>\n",
       "      <td>2230.0</td>\n",
       "      <td>18817.0</td>\n",
       "      <td>20110.0</td>\n",
       "      <td>26368.0</td>\n",
       "      <td>...</td>\n",
       "      <td>22830.0</td>\n",
       "      <td>25230.0</td>\n",
       "      <td>27850.0</td>\n",
       "      <td>21390.0</td>\n",
       "      <td>27090.0</td>\n",
       "      <td>23170.0</td>\n",
       "      <td>29705.0</td>\n",
       "      <td>19140.0</td>\n",
       "      <td>22055.0</td>\n",
       "      <td>23200.0</td>\n",
       "    </tr>\n",
       "    <tr>\n",
       "      <th>2</th>\n",
       "      <td>2</td>\n",
       "      <td>163930</td>\n",
       "      <td>2012</td>\n",
       "      <td>52</td>\n",
       "      <td>1</td>\n",
       "      <td>20441990</td>\n",
       "      <td>5695.0</td>\n",
       "      <td>47480.0</td>\n",
       "      <td>47619.0</td>\n",
       "      <td>89708.0</td>\n",
       "      <td>...</td>\n",
       "      <td>14930.0</td>\n",
       "      <td>44290.0</td>\n",
       "      <td>46412.0</td>\n",
       "      <td>29320.0</td>\n",
       "      <td>21140.0</td>\n",
       "      <td>28406.0</td>\n",
       "      <td>65056.0</td>\n",
       "      <td>31886.0</td>\n",
       "      <td>48750.0</td>\n",
       "      <td>36520.0</td>\n",
       "    </tr>\n",
       "    <tr>\n",
       "      <th>3</th>\n",
       "      <td>3</td>\n",
       "      <td>53902</td>\n",
       "      <td>2012</td>\n",
       "      <td>52</td>\n",
       "      <td>1</td>\n",
       "      <td>20441989</td>\n",
       "      <td>1995.0</td>\n",
       "      <td>17146.0</td>\n",
       "      <td>20066.0</td>\n",
       "      <td>27070.0</td>\n",
       "      <td>...</td>\n",
       "      <td>15120.0</td>\n",
       "      <td>12480.0</td>\n",
       "      <td>19780.0</td>\n",
       "      <td>7990.0</td>\n",
       "      <td>8230.0</td>\n",
       "      <td>10650.0</td>\n",
       "      <td>21920.0</td>\n",
       "      <td>13040.0</td>\n",
       "      <td>9780.0</td>\n",
       "      <td>9630.0</td>\n",
       "    </tr>\n",
       "    <tr>\n",
       "      <th>4</th>\n",
       "      <td>4</td>\n",
       "      <td>105970</td>\n",
       "      <td>2012</td>\n",
       "      <td>52</td>\n",
       "      <td>1</td>\n",
       "      <td>20441988</td>\n",
       "      <td>6515.0</td>\n",
       "      <td>49262.0</td>\n",
       "      <td>50045.0</td>\n",
       "      <td>95167.0</td>\n",
       "      <td>...</td>\n",
       "      <td>18872.0</td>\n",
       "      <td>19328.0</td>\n",
       "      <td>37168.0</td>\n",
       "      <td>13570.0</td>\n",
       "      <td>19760.0</td>\n",
       "      <td>20208.0</td>\n",
       "      <td>34745.0</td>\n",
       "      <td>18442.0</td>\n",
       "      <td>24700.0</td>\n",
       "      <td>21793.0</td>\n",
       "    </tr>\n",
       "  </tbody>\n",
       "</table>\n",
       "<p>5 rows × 66 columns</p>\n",
       "</div>"
      ],
      "text/plain": [
       "   Num       y  year  week  shift   item_id      f1       f2       f3  \\\n",
       "0    0  123438  2012    52      1  20442076  4915.0  38056.0  40185.0   \n",
       "1    1   58410  2012    52      1  20441997  2230.0  18817.0  20110.0   \n",
       "2    2  163930  2012    52      1  20441990  5695.0  47480.0  47619.0   \n",
       "3    3   53902  2012    52      1  20441989  1995.0  17146.0  20066.0   \n",
       "4    4  105970  2012    52      1  20441988  6515.0  49262.0  50045.0   \n",
       "\n",
       "        f4   ...         f51      f52      f53      f54      f55      f56  \\\n",
       "0  45733.0   ...     39423.0  41765.0  52590.0  31452.0  44420.0  41865.0   \n",
       "1  26368.0   ...     22830.0  25230.0  27850.0  21390.0  27090.0  23170.0   \n",
       "2  89708.0   ...     14930.0  44290.0  46412.0  29320.0  21140.0  28406.0   \n",
       "3  27070.0   ...     15120.0  12480.0  19780.0   7990.0   8230.0  10650.0   \n",
       "4  95167.0   ...     18872.0  19328.0  37168.0  13570.0  19760.0  20208.0   \n",
       "\n",
       "       f57      f58      f59      f60  \n",
       "0  52705.0  36102.0  44163.0  45239.0  \n",
       "1  29705.0  19140.0  22055.0  23200.0  \n",
       "2  65056.0  31886.0  48750.0  36520.0  \n",
       "3  21920.0  13040.0   9780.0   9630.0  \n",
       "4  34745.0  18442.0  24700.0  21793.0  \n",
       "\n",
       "[5 rows x 66 columns]"
      ]
     },
     "execution_count": 3,
     "metadata": {},
     "output_type": "execute_result"
    }
   ],
   "source": [
    "train.head()"
   ]
  },
  {
   "cell_type": "code",
   "execution_count": 4,
   "metadata": {
    "collapsed": false,
    "deletable": true,
    "editable": true
   },
   "outputs": [
    {
     "data": {
      "text/html": [
       "<div>\n",
       "<table border=\"1\" class=\"dataframe\">\n",
       "  <thead>\n",
       "    <tr style=\"text-align: right;\">\n",
       "      <th></th>\n",
       "      <th>Num</th>\n",
       "      <th>year</th>\n",
       "      <th>week</th>\n",
       "      <th>shift</th>\n",
       "      <th>item_id</th>\n",
       "      <th>f1</th>\n",
       "      <th>f2</th>\n",
       "      <th>f3</th>\n",
       "      <th>f4</th>\n",
       "      <th>f5</th>\n",
       "      <th>...</th>\n",
       "      <th>f51</th>\n",
       "      <th>f52</th>\n",
       "      <th>f53</th>\n",
       "      <th>f54</th>\n",
       "      <th>f55</th>\n",
       "      <th>f56</th>\n",
       "      <th>f57</th>\n",
       "      <th>f58</th>\n",
       "      <th>f59</th>\n",
       "      <th>f60</th>\n",
       "    </tr>\n",
       "  </thead>\n",
       "  <tbody>\n",
       "    <tr>\n",
       "      <th>0</th>\n",
       "      <td>348622</td>\n",
       "      <td>2015</td>\n",
       "      <td>3</td>\n",
       "      <td>3</td>\n",
       "      <td>20447918</td>\n",
       "      <td>960.0</td>\n",
       "      <td>820.0</td>\n",
       "      <td>1128.0</td>\n",
       "      <td>1801.0</td>\n",
       "      <td>1045.0</td>\n",
       "      <td>...</td>\n",
       "      <td>1510.0</td>\n",
       "      <td>580.0</td>\n",
       "      <td>969.0</td>\n",
       "      <td>1635.0</td>\n",
       "      <td>895.0</td>\n",
       "      <td>2140.0</td>\n",
       "      <td>1182.0</td>\n",
       "      <td>1020.0</td>\n",
       "      <td>1293.0</td>\n",
       "      <td>1290.0</td>\n",
       "    </tr>\n",
       "    <tr>\n",
       "      <th>1</th>\n",
       "      <td>348623</td>\n",
       "      <td>2015</td>\n",
       "      <td>3</td>\n",
       "      <td>3</td>\n",
       "      <td>20447902</td>\n",
       "      <td>9086.0</td>\n",
       "      <td>12585.0</td>\n",
       "      <td>11595.0</td>\n",
       "      <td>9685.0</td>\n",
       "      <td>12917.0</td>\n",
       "      <td>...</td>\n",
       "      <td>22055.0</td>\n",
       "      <td>14235.0</td>\n",
       "      <td>21195.0</td>\n",
       "      <td>18280.0</td>\n",
       "      <td>18270.0</td>\n",
       "      <td>15851.0</td>\n",
       "      <td>16920.0</td>\n",
       "      <td>18320.0</td>\n",
       "      <td>24116.0</td>\n",
       "      <td>21307.0</td>\n",
       "    </tr>\n",
       "    <tr>\n",
       "      <th>2</th>\n",
       "      <td>348624</td>\n",
       "      <td>2015</td>\n",
       "      <td>3</td>\n",
       "      <td>3</td>\n",
       "      <td>20447732</td>\n",
       "      <td>115087.0</td>\n",
       "      <td>147287.0</td>\n",
       "      <td>176065.0</td>\n",
       "      <td>143105.0</td>\n",
       "      <td>202069.0</td>\n",
       "      <td>...</td>\n",
       "      <td>302165.0</td>\n",
       "      <td>162232.0</td>\n",
       "      <td>221622.0</td>\n",
       "      <td>256605.0</td>\n",
       "      <td>240047.0</td>\n",
       "      <td>236630.0</td>\n",
       "      <td>206697.0</td>\n",
       "      <td>245652.0</td>\n",
       "      <td>286179.0</td>\n",
       "      <td>285904.0</td>\n",
       "    </tr>\n",
       "    <tr>\n",
       "      <th>3</th>\n",
       "      <td>348625</td>\n",
       "      <td>2015</td>\n",
       "      <td>3</td>\n",
       "      <td>3</td>\n",
       "      <td>20443951</td>\n",
       "      <td>20900.0</td>\n",
       "      <td>24420.0</td>\n",
       "      <td>27068.0</td>\n",
       "      <td>20460.0</td>\n",
       "      <td>25580.0</td>\n",
       "      <td>...</td>\n",
       "      <td>39055.0</td>\n",
       "      <td>14445.0</td>\n",
       "      <td>22450.0</td>\n",
       "      <td>22093.0</td>\n",
       "      <td>31175.0</td>\n",
       "      <td>23355.0</td>\n",
       "      <td>15358.0</td>\n",
       "      <td>18930.0</td>\n",
       "      <td>29643.0</td>\n",
       "      <td>33970.0</td>\n",
       "    </tr>\n",
       "    <tr>\n",
       "      <th>4</th>\n",
       "      <td>348626</td>\n",
       "      <td>2015</td>\n",
       "      <td>3</td>\n",
       "      <td>3</td>\n",
       "      <td>20443944</td>\n",
       "      <td>4430.0</td>\n",
       "      <td>5864.0</td>\n",
       "      <td>3310.0</td>\n",
       "      <td>1853.0</td>\n",
       "      <td>2836.0</td>\n",
       "      <td>...</td>\n",
       "      <td>120.0</td>\n",
       "      <td>130.0</td>\n",
       "      <td>60.0</td>\n",
       "      <td>30.0</td>\n",
       "      <td>50.0</td>\n",
       "      <td>20.0</td>\n",
       "      <td>20.0</td>\n",
       "      <td>30.0</td>\n",
       "      <td>0.0</td>\n",
       "      <td>0.0</td>\n",
       "    </tr>\n",
       "  </tbody>\n",
       "</table>\n",
       "<p>5 rows × 65 columns</p>\n",
       "</div>"
      ],
      "text/plain": [
       "      Num  year  week  shift   item_id        f1        f2        f3  \\\n",
       "0  348622  2015     3      3  20447918     960.0     820.0    1128.0   \n",
       "1  348623  2015     3      3  20447902    9086.0   12585.0   11595.0   \n",
       "2  348624  2015     3      3  20447732  115087.0  147287.0  176065.0   \n",
       "3  348625  2015     3      3  20443951   20900.0   24420.0   27068.0   \n",
       "4  348626  2015     3      3  20443944    4430.0    5864.0    3310.0   \n",
       "\n",
       "         f4        f5    ...          f51       f52       f53       f54  \\\n",
       "0    1801.0    1045.0    ...       1510.0     580.0     969.0    1635.0   \n",
       "1    9685.0   12917.0    ...      22055.0   14235.0   21195.0   18280.0   \n",
       "2  143105.0  202069.0    ...     302165.0  162232.0  221622.0  256605.0   \n",
       "3   20460.0   25580.0    ...      39055.0   14445.0   22450.0   22093.0   \n",
       "4    1853.0    2836.0    ...        120.0     130.0      60.0      30.0   \n",
       "\n",
       "        f55       f56       f57       f58       f59       f60  \n",
       "0     895.0    2140.0    1182.0    1020.0    1293.0    1290.0  \n",
       "1   18270.0   15851.0   16920.0   18320.0   24116.0   21307.0  \n",
       "2  240047.0  236630.0  206697.0  245652.0  286179.0  285904.0  \n",
       "3   31175.0   23355.0   15358.0   18930.0   29643.0   33970.0  \n",
       "4      50.0      20.0      20.0      30.0       0.0       0.0  \n",
       "\n",
       "[5 rows x 65 columns]"
      ]
     },
     "execution_count": 4,
     "metadata": {},
     "output_type": "execute_result"
    }
   ],
   "source": [
    "test.head()"
   ]
  },
  {
   "cell_type": "code",
   "execution_count": 5,
   "metadata": {
    "collapsed": false,
    "deletable": true,
    "editable": true
   },
   "outputs": [
    {
     "data": {
      "text/html": [
       "<div>\n",
       "<table border=\"1\" class=\"dataframe\">\n",
       "  <thead>\n",
       "    <tr style=\"text-align: right;\">\n",
       "      <th></th>\n",
       "      <th>Num</th>\n",
       "      <th>y</th>\n",
       "    </tr>\n",
       "  </thead>\n",
       "  <tbody>\n",
       "    <tr>\n",
       "      <th>0</th>\n",
       "      <td>348622</td>\n",
       "      <td>198575.912031</td>\n",
       "    </tr>\n",
       "    <tr>\n",
       "      <th>1</th>\n",
       "      <td>348623</td>\n",
       "      <td>198575.912031</td>\n",
       "    </tr>\n",
       "    <tr>\n",
       "      <th>2</th>\n",
       "      <td>348624</td>\n",
       "      <td>198575.912031</td>\n",
       "    </tr>\n",
       "    <tr>\n",
       "      <th>3</th>\n",
       "      <td>348625</td>\n",
       "      <td>198575.912031</td>\n",
       "    </tr>\n",
       "    <tr>\n",
       "      <th>4</th>\n",
       "      <td>348626</td>\n",
       "      <td>198575.912031</td>\n",
       "    </tr>\n",
       "  </tbody>\n",
       "</table>\n",
       "</div>"
      ],
      "text/plain": [
       "      Num              y\n",
       "0  348622  198575.912031\n",
       "1  348623  198575.912031\n",
       "2  348624  198575.912031\n",
       "3  348625  198575.912031\n",
       "4  348626  198575.912031"
      ]
     },
     "execution_count": 5,
     "metadata": {},
     "output_type": "execute_result"
    }
   ],
   "source": [
    "sample_submission.head()"
   ]
  },
  {
   "cell_type": "code",
   "execution_count": 148,
   "metadata": {
    "collapsed": false,
    "deletable": true,
    "editable": true
   },
   "outputs": [],
   "source": [
    "frac = 0.05\n",
    "\n",
    "train_part = train.sample(frac=frac, random_state=42)\n",
    "train_part = train_part.sort_values(['year', 'week'], ascending=[1, 1])\n",
    "\n",
    "X = train_part.drop(['Num', 'y'], axis=1)\n",
    "y = train_part['y']"
   ]
  },
  {
   "cell_type": "markdown",
   "metadata": {},
   "source": [
    "Будем работать с 5% выборки."
   ]
  },
  {
   "cell_type": "code",
   "execution_count": 149,
   "metadata": {
    "collapsed": false,
    "deletable": true,
    "editable": true
   },
   "outputs": [
    {
     "data": {
      "text/html": [
       "<div>\n",
       "<table border=\"1\" class=\"dataframe\">\n",
       "  <thead>\n",
       "    <tr style=\"text-align: right;\">\n",
       "      <th></th>\n",
       "      <th>year</th>\n",
       "      <th>week</th>\n",
       "      <th>shift</th>\n",
       "      <th>item_id</th>\n",
       "      <th>f1</th>\n",
       "      <th>f2</th>\n",
       "      <th>f3</th>\n",
       "      <th>f4</th>\n",
       "      <th>f5</th>\n",
       "      <th>f6</th>\n",
       "      <th>...</th>\n",
       "      <th>f51</th>\n",
       "      <th>f52</th>\n",
       "      <th>f53</th>\n",
       "      <th>f54</th>\n",
       "      <th>f55</th>\n",
       "      <th>f56</th>\n",
       "      <th>f57</th>\n",
       "      <th>f58</th>\n",
       "      <th>f59</th>\n",
       "      <th>f60</th>\n",
       "    </tr>\n",
       "  </thead>\n",
       "  <tbody>\n",
       "    <tr>\n",
       "      <th>127</th>\n",
       "      <td>2012</td>\n",
       "      <td>52</td>\n",
       "      <td>1</td>\n",
       "      <td>20438572</td>\n",
       "      <td>20650.0</td>\n",
       "      <td>198032.0</td>\n",
       "      <td>215778.0</td>\n",
       "      <td>260442.0</td>\n",
       "      <td>351795.0</td>\n",
       "      <td>212581.0</td>\n",
       "      <td>...</td>\n",
       "      <td>196921.0</td>\n",
       "      <td>183287.0</td>\n",
       "      <td>239261.0</td>\n",
       "      <td>149807.0</td>\n",
       "      <td>180159.0</td>\n",
       "      <td>184969.0</td>\n",
       "      <td>247905.0</td>\n",
       "      <td>155447.0</td>\n",
       "      <td>206402.0</td>\n",
       "      <td>199538.0</td>\n",
       "    </tr>\n",
       "    <tr>\n",
       "      <th>176</th>\n",
       "      <td>2012</td>\n",
       "      <td>52</td>\n",
       "      <td>1</td>\n",
       "      <td>20438332</td>\n",
       "      <td>8020.0</td>\n",
       "      <td>71982.0</td>\n",
       "      <td>78962.0</td>\n",
       "      <td>112012.0</td>\n",
       "      <td>150403.0</td>\n",
       "      <td>80233.0</td>\n",
       "      <td>...</td>\n",
       "      <td>72251.0</td>\n",
       "      <td>75669.0</td>\n",
       "      <td>112764.0</td>\n",
       "      <td>48416.0</td>\n",
       "      <td>71649.0</td>\n",
       "      <td>87808.0</td>\n",
       "      <td>126992.0</td>\n",
       "      <td>62207.0</td>\n",
       "      <td>63960.0</td>\n",
       "      <td>76286.0</td>\n",
       "    </tr>\n",
       "    <tr>\n",
       "      <th>128</th>\n",
       "      <td>2012</td>\n",
       "      <td>52</td>\n",
       "      <td>1</td>\n",
       "      <td>20438581</td>\n",
       "      <td>0.0</td>\n",
       "      <td>0.0</td>\n",
       "      <td>0.0</td>\n",
       "      <td>10.0</td>\n",
       "      <td>0.0</td>\n",
       "      <td>10.0</td>\n",
       "      <td>...</td>\n",
       "      <td>10.0</td>\n",
       "      <td>10.0</td>\n",
       "      <td>0.0</td>\n",
       "      <td>10.0</td>\n",
       "      <td>10.0</td>\n",
       "      <td>10.0</td>\n",
       "      <td>40.0</td>\n",
       "      <td>100.0</td>\n",
       "      <td>10.0</td>\n",
       "      <td>50.0</td>\n",
       "    </tr>\n",
       "    <tr>\n",
       "      <th>35</th>\n",
       "      <td>2012</td>\n",
       "      <td>52</td>\n",
       "      <td>1</td>\n",
       "      <td>20440742</td>\n",
       "      <td>0.0</td>\n",
       "      <td>0.0</td>\n",
       "      <td>20.0</td>\n",
       "      <td>30.0</td>\n",
       "      <td>20.0</td>\n",
       "      <td>15.0</td>\n",
       "      <td>...</td>\n",
       "      <td>0.0</td>\n",
       "      <td>0.0</td>\n",
       "      <td>10.0</td>\n",
       "      <td>0.0</td>\n",
       "      <td>0.0</td>\n",
       "      <td>0.0</td>\n",
       "      <td>10.0</td>\n",
       "      <td>40.0</td>\n",
       "      <td>30.0</td>\n",
       "      <td>40.0</td>\n",
       "    </tr>\n",
       "    <tr>\n",
       "      <th>212</th>\n",
       "      <td>2012</td>\n",
       "      <td>52</td>\n",
       "      <td>1</td>\n",
       "      <td>20438687</td>\n",
       "      <td>3870.0</td>\n",
       "      <td>38538.0</td>\n",
       "      <td>42185.0</td>\n",
       "      <td>43778.0</td>\n",
       "      <td>57285.0</td>\n",
       "      <td>32580.0</td>\n",
       "      <td>...</td>\n",
       "      <td>34150.0</td>\n",
       "      <td>37630.0</td>\n",
       "      <td>49825.0</td>\n",
       "      <td>27780.0</td>\n",
       "      <td>33270.0</td>\n",
       "      <td>39875.0</td>\n",
       "      <td>42385.0</td>\n",
       "      <td>30173.0</td>\n",
       "      <td>31430.0</td>\n",
       "      <td>41870.0</td>\n",
       "    </tr>\n",
       "  </tbody>\n",
       "</table>\n",
       "<p>5 rows × 64 columns</p>\n",
       "</div>"
      ],
      "text/plain": [
       "     year  week  shift   item_id       f1        f2        f3        f4  \\\n",
       "127  2012    52      1  20438572  20650.0  198032.0  215778.0  260442.0   \n",
       "176  2012    52      1  20438332   8020.0   71982.0   78962.0  112012.0   \n",
       "128  2012    52      1  20438581      0.0       0.0       0.0      10.0   \n",
       "35   2012    52      1  20440742      0.0       0.0      20.0      30.0   \n",
       "212  2012    52      1  20438687   3870.0   38538.0   42185.0   43778.0   \n",
       "\n",
       "           f5        f6    ...          f51       f52       f53       f54  \\\n",
       "127  351795.0  212581.0    ...     196921.0  183287.0  239261.0  149807.0   \n",
       "176  150403.0   80233.0    ...      72251.0   75669.0  112764.0   48416.0   \n",
       "128       0.0      10.0    ...         10.0      10.0       0.0      10.0   \n",
       "35       20.0      15.0    ...          0.0       0.0      10.0       0.0   \n",
       "212   57285.0   32580.0    ...      34150.0   37630.0   49825.0   27780.0   \n",
       "\n",
       "          f55       f56       f57       f58       f59       f60  \n",
       "127  180159.0  184969.0  247905.0  155447.0  206402.0  199538.0  \n",
       "176   71649.0   87808.0  126992.0   62207.0   63960.0   76286.0  \n",
       "128      10.0      10.0      40.0     100.0      10.0      50.0  \n",
       "35        0.0       0.0      10.0      40.0      30.0      40.0  \n",
       "212   33270.0   39875.0   42385.0   30173.0   31430.0   41870.0  \n",
       "\n",
       "[5 rows x 64 columns]"
      ]
     },
     "execution_count": 149,
     "metadata": {},
     "output_type": "execute_result"
    }
   ],
   "source": [
    "X.head()"
   ]
  },
  {
   "cell_type": "code",
   "execution_count": 150,
   "metadata": {
    "collapsed": false,
    "deletable": true,
    "editable": true
   },
   "outputs": [
    {
     "data": {
      "text/plain": [
       "127    485643\n",
       "176    222073\n",
       "128       177\n",
       "35         32\n",
       "212     98145\n",
       "Name: y, dtype: int64"
      ]
     },
     "execution_count": 150,
     "metadata": {},
     "output_type": "execute_result"
    }
   ],
   "source": [
    "y.head()"
   ]
  },
  {
   "cell_type": "code",
   "execution_count": 14,
   "metadata": {
    "collapsed": false,
    "deletable": true,
    "editable": true
   },
   "outputs": [],
   "source": [
    "def smape(y_true, y_pred): \n",
    "    return np.mean(np.abs((y_true - y_pred) / (abs(y_true) + abs(y_pred)))) * 200"
   ]
  },
  {
   "cell_type": "code",
   "execution_count": 15,
   "metadata": {
    "collapsed": true,
    "deletable": true,
    "editable": true
   },
   "outputs": [],
   "source": [
    "def score_model(model, X, y):\n",
    "    tscv = TimeSeriesSplit(n_splits=5)\n",
    "    cross_val_score = []\n",
    "    for train_index, test_index in tscv.split(X):\n",
    "        # print(\"TRAIN:\", train_index, \"TEST:\", test_index)\n",
    "        X_train, X_test = X.iloc[train_index, :], X.iloc[test_index, :]\n",
    "        y_train, y_test = y.iloc[train_index], y.iloc[test_index]\n",
    "        model.fit(X_train, y_train)\n",
    "        preds = model.predict(X_test)\n",
    "\n",
    "        cross_val_score.append(smape(y_test, preds))\n",
    "    cross_val_score = np.array(cross_val_score)\n",
    "    score = cross_val_score.mean()\n",
    "    return score"
   ]
  },
  {
   "cell_type": "markdown",
   "metadata": {},
   "source": [
    "Написали функцию для вычисления кросс-валидации по времени на наших данных."
   ]
  },
  {
   "cell_type": "code",
   "execution_count": 151,
   "metadata": {
    "collapsed": false,
    "deletable": true,
    "editable": true
   },
   "outputs": [
    {
     "name": "stdout",
     "output_type": "stream",
     "text": [
      "42.0652490825\n",
      "35.550399101\n"
     ]
    }
   ],
   "source": [
    "print(score_model(GradientBoostingRegressor(n_estimators=100, max_depth=5, random_state=43), X, y))\n",
    "print(score_model(GradientBoostingRegressor(n_estimators=100, max_depth=10, random_state=44), X, y))"
   ]
  },
  {
   "cell_type": "code",
   "execution_count": 152,
   "metadata": {
    "collapsed": false,
    "deletable": true,
    "editable": true
   },
   "outputs": [
    {
     "name": "stdout",
     "output_type": "stream",
     "text": [
      "42.2848688338\n"
     ]
    }
   ],
   "source": [
    "f = X.shape[1]\n",
    "print(score_model(DecisionTreeRegressor(max_features=int(f ** 0.5)), X, y))"
   ]
  },
  {
   "cell_type": "code",
   "execution_count": 153,
   "metadata": {
    "collapsed": false,
    "deletable": true,
    "editable": true
   },
   "outputs": [
    {
     "name": "stdout",
     "output_type": "stream",
     "text": [
      "32.2154991918\n"
     ]
    }
   ],
   "source": [
    "print(score_model(BaggingRegressor(DecisionTreeRegressor()), X, y))"
   ]
  },
  {
   "cell_type": "code",
   "execution_count": 154,
   "metadata": {
    "collapsed": false,
    "deletable": true,
    "editable": true
   },
   "outputs": [
    {
     "name": "stdout",
     "output_type": "stream",
     "text": [
      "33.8987945987\n"
     ]
    }
   ],
   "source": [
    "print(score_model(BaggingRegressor(DecisionTreeRegressor(max_features=int(f ** 0.5))), X, y))"
   ]
  },
  {
   "cell_type": "code",
   "execution_count": 155,
   "metadata": {
    "collapsed": false,
    "deletable": true,
    "editable": true
   },
   "outputs": [
    {
     "name": "stdout",
     "output_type": "stream",
     "text": [
      "32.722747705\n"
     ]
    }
   ],
   "source": [
    "print(score_model(RandomForestRegressor(), X, y))"
   ]
  },
  {
   "cell_type": "code",
   "execution_count": 156,
   "metadata": {
    "collapsed": false
   },
   "outputs": [
    {
     "name": "stdout",
     "output_type": "stream",
     "text": [
      "33.0592496799\n"
     ]
    }
   ],
   "source": [
    "print(score_model(BaggingRegressor(RandomForestRegressor()), X, y))"
   ]
  },
  {
   "cell_type": "markdown",
   "metadata": {},
   "source": [
    "Проверили несколько регрессоров: самые лучшие - это BaggingRegressor(DecisionTreeRegressor() и RandomForestRegressor().\n",
    "Если отправить RandomForestRegressor, обученный на всей выборке, получаем SMAPE 24 с чем-то, это неплохо, это лучший мой результат."
   ]
  },
  {
   "cell_type": "code",
   "execution_count": 157,
   "metadata": {
    "collapsed": false
   },
   "outputs": [
    {
     "data": {
      "image/png": "[encoded data removed]",
      "text/plain": [
       "<matplotlib.figure.Figure at 0x7f27c83bd278>"
      ]
     },
     "metadata": {},
     "output_type": "display_data"
    }
   ],
   "source": [
    "plt.figure(figsize=(18, 6))\n",
    "plt.plot(np.arange(1, 61), [X['f' + str(i)].iloc[0] for i in np.arange(1, 61)])\n",
    "plt.scatter([61], [y.iloc[0]])\n",
    "plt.show()"
   ]
  },
  {
   "cell_type": "markdown",
   "metadata": {},
   "source": [
    "Если нарисовать данные, видно, что первая половина f1...f30 повторяет вторую f31..f60.\n",
    "Выкинем половину."
   ]
  },
  {
   "cell_type": "code",
   "execution_count": 158,
   "metadata": {
    "collapsed": false
   },
   "outputs": [
    {
     "data": {
      "text/html": [
       "<div>\n",
       "<table border=\"1\" class=\"dataframe\">\n",
       "  <thead>\n",
       "    <tr style=\"text-align: right;\">\n",
       "      <th></th>\n",
       "      <th>f1</th>\n",
       "      <th>f2</th>\n",
       "      <th>f3</th>\n",
       "      <th>f4</th>\n",
       "      <th>f5</th>\n",
       "      <th>f6</th>\n",
       "      <th>f7</th>\n",
       "      <th>f8</th>\n",
       "      <th>f9</th>\n",
       "      <th>f10</th>\n",
       "      <th>...</th>\n",
       "      <th>f25</th>\n",
       "      <th>f26</th>\n",
       "      <th>f27</th>\n",
       "      <th>f28</th>\n",
       "      <th>f29</th>\n",
       "      <th>f30</th>\n",
       "      <th>year</th>\n",
       "      <th>week</th>\n",
       "      <th>shift</th>\n",
       "      <th>item_id</th>\n",
       "    </tr>\n",
       "  </thead>\n",
       "  <tbody>\n",
       "    <tr>\n",
       "      <th>127</th>\n",
       "      <td>20650.0</td>\n",
       "      <td>198032.0</td>\n",
       "      <td>215778.0</td>\n",
       "      <td>260442.0</td>\n",
       "      <td>351795.0</td>\n",
       "      <td>212581.0</td>\n",
       "      <td>220787.0</td>\n",
       "      <td>249000.0</td>\n",
       "      <td>246481.0</td>\n",
       "      <td>268937.0</td>\n",
       "      <td>...</td>\n",
       "      <td>180159.0</td>\n",
       "      <td>184969.0</td>\n",
       "      <td>247905.0</td>\n",
       "      <td>155447.0</td>\n",
       "      <td>206402.0</td>\n",
       "      <td>199538.0</td>\n",
       "      <td>2012</td>\n",
       "      <td>52</td>\n",
       "      <td>1</td>\n",
       "      <td>20438572</td>\n",
       "    </tr>\n",
       "    <tr>\n",
       "      <th>176</th>\n",
       "      <td>8020.0</td>\n",
       "      <td>71982.0</td>\n",
       "      <td>78962.0</td>\n",
       "      <td>112012.0</td>\n",
       "      <td>150403.0</td>\n",
       "      <td>80233.0</td>\n",
       "      <td>101056.0</td>\n",
       "      <td>102723.0</td>\n",
       "      <td>108437.0</td>\n",
       "      <td>138153.0</td>\n",
       "      <td>...</td>\n",
       "      <td>71649.0</td>\n",
       "      <td>87808.0</td>\n",
       "      <td>126992.0</td>\n",
       "      <td>62207.0</td>\n",
       "      <td>63960.0</td>\n",
       "      <td>76286.0</td>\n",
       "      <td>2012</td>\n",
       "      <td>52</td>\n",
       "      <td>1</td>\n",
       "      <td>20438332</td>\n",
       "    </tr>\n",
       "    <tr>\n",
       "      <th>128</th>\n",
       "      <td>0.0</td>\n",
       "      <td>0.0</td>\n",
       "      <td>0.0</td>\n",
       "      <td>10.0</td>\n",
       "      <td>0.0</td>\n",
       "      <td>10.0</td>\n",
       "      <td>0.0</td>\n",
       "      <td>10.0</td>\n",
       "      <td>0.0</td>\n",
       "      <td>10.0</td>\n",
       "      <td>...</td>\n",
       "      <td>10.0</td>\n",
       "      <td>10.0</td>\n",
       "      <td>40.0</td>\n",
       "      <td>100.0</td>\n",
       "      <td>10.0</td>\n",
       "      <td>50.0</td>\n",
       "      <td>2012</td>\n",
       "      <td>52</td>\n",
       "      <td>1</td>\n",
       "      <td>20438581</td>\n",
       "    </tr>\n",
       "    <tr>\n",
       "      <th>35</th>\n",
       "      <td>0.0</td>\n",
       "      <td>0.0</td>\n",
       "      <td>20.0</td>\n",
       "      <td>30.0</td>\n",
       "      <td>20.0</td>\n",
       "      <td>15.0</td>\n",
       "      <td>0.0</td>\n",
       "      <td>5.0</td>\n",
       "      <td>0.0</td>\n",
       "      <td>5.0</td>\n",
       "      <td>...</td>\n",
       "      <td>0.0</td>\n",
       "      <td>0.0</td>\n",
       "      <td>10.0</td>\n",
       "      <td>40.0</td>\n",
       "      <td>30.0</td>\n",
       "      <td>40.0</td>\n",
       "      <td>2012</td>\n",
       "      <td>52</td>\n",
       "      <td>1</td>\n",
       "      <td>20440742</td>\n",
       "    </tr>\n",
       "    <tr>\n",
       "      <th>212</th>\n",
       "      <td>3870.0</td>\n",
       "      <td>38538.0</td>\n",
       "      <td>42185.0</td>\n",
       "      <td>43778.0</td>\n",
       "      <td>57285.0</td>\n",
       "      <td>32580.0</td>\n",
       "      <td>35460.0</td>\n",
       "      <td>38701.0</td>\n",
       "      <td>39796.0</td>\n",
       "      <td>50395.0</td>\n",
       "      <td>...</td>\n",
       "      <td>33270.0</td>\n",
       "      <td>39875.0</td>\n",
       "      <td>42385.0</td>\n",
       "      <td>30173.0</td>\n",
       "      <td>31430.0</td>\n",
       "      <td>41870.0</td>\n",
       "      <td>2012</td>\n",
       "      <td>52</td>\n",
       "      <td>1</td>\n",
       "      <td>20438687</td>\n",
       "    </tr>\n",
       "  </tbody>\n",
       "</table>\n",
       "<p>5 rows × 34 columns</p>\n",
       "</div>"
      ],
      "text/plain": [
       "          f1        f2        f3        f4        f5        f6        f7  \\\n",
       "127  20650.0  198032.0  215778.0  260442.0  351795.0  212581.0  220787.0   \n",
       "176   8020.0   71982.0   78962.0  112012.0  150403.0   80233.0  101056.0   \n",
       "128      0.0       0.0       0.0      10.0       0.0      10.0       0.0   \n",
       "35       0.0       0.0      20.0      30.0      20.0      15.0       0.0   \n",
       "212   3870.0   38538.0   42185.0   43778.0   57285.0   32580.0   35460.0   \n",
       "\n",
       "           f8        f9       f10    ...          f25       f26       f27  \\\n",
       "127  249000.0  246481.0  268937.0    ...     180159.0  184969.0  247905.0   \n",
       "176  102723.0  108437.0  138153.0    ...      71649.0   87808.0  126992.0   \n",
       "128      10.0       0.0      10.0    ...         10.0      10.0      40.0   \n",
       "35        5.0       0.0       5.0    ...          0.0       0.0      10.0   \n",
       "212   38701.0   39796.0   50395.0    ...      33270.0   39875.0   42385.0   \n",
       "\n",
       "          f28       f29       f30  year  week  shift   item_id  \n",
       "127  155447.0  206402.0  199538.0  2012    52      1  20438572  \n",
       "176   62207.0   63960.0   76286.0  2012    52      1  20438332  \n",
       "128     100.0      10.0      50.0  2012    52      1  20438581  \n",
       "35       40.0      30.0      40.0  2012    52      1  20440742  \n",
       "212   30173.0   31430.0   41870.0  2012    52      1  20438687  \n",
       "\n",
       "[5 rows x 34 columns]"
      ]
     },
     "execution_count": 158,
     "metadata": {},
     "output_type": "execute_result"
    }
   ],
   "source": [
    "X = X[['f' + str(i) for i in np.arange(1, 31)] + ['year', 'week', 'shift', 'item_id']]\n",
    "X.head()"
   ]
  },
  {
   "cell_type": "code",
   "execution_count": 160,
   "metadata": {
    "collapsed": false
   },
   "outputs": [
    {
     "data": {
      "image/png": "[encoded data removed]",
      "text/plain": [
       "<matplotlib.figure.Figure at 0x7f27c78a15f8>"
      ]
     },
     "metadata": {},
     "output_type": "display_data"
    }
   ],
   "source": [
    "plt.figure(figsize=(18, 6))\n",
    "plt.plot(np.arange(1, 31), [X['f' + str(i)].iloc[np.arange(0, 3)] for i in np.arange(1, 31)])\n",
    "plt.scatter([31], [y.iloc[0]])\n",
    "plt.scatter([31], [y.iloc[1]])\n",
    "plt.scatter([31], [y.iloc[2]])\n",
    "plt.show()"
   ]
  },
  {
   "cell_type": "markdown",
   "metadata": {},
   "source": [
    "Можно заметить, что значение y 0 - очень похоже на последнюю f. В условии сказано, что это продажи в какие-то периоды времени этого товара, похоже, то чем больше f - тем ближе к нужной неделе."
   ]
  },
  {
   "cell_type": "code",
   "execution_count": 161,
   "metadata": {
    "collapsed": false
   },
   "outputs": [
    {
     "data": {
      "image/png": "[encoded data removed]",
      "text/plain": [
       "<matplotlib.figure.Figure at 0x7f27c8453048>"
      ]
     },
     "metadata": {},
     "output_type": "display_data"
    }
   ],
   "source": [
    "C = 0.4\n",
    "n = 8\n",
    "plt.figure(figsize=(18, 6))\n",
    "plt.plot(np.arange(1, 31), [X['f' + str(i)].iloc[np.arange(0, n)] for i in np.arange(1, 31)])\n",
    "for i in np.arange(0, n):\n",
    "    plt.scatter([31], [y.iloc[i] * C])\n",
    "plt.show()"
   ]
  },
  {
   "cell_type": "markdown",
   "metadata": {},
   "source": [
    "Если домножить на коэффициент, действительно, видим, что y - около f30. Поэтому разумно обучать только на последних элементах выборки."
   ]
  },
  {
   "cell_type": "code",
   "execution_count": 171,
   "metadata": {
    "collapsed": true
   },
   "outputs": [],
   "source": [
    "ns = [1, 5, 10, 15, 20, 21, 22, 23, 24, 25, 26, 27, 28, 29, 30]\n",
    "rf_scores = []\n",
    "for n in ns:\n",
    "    rf_scores.append(score_model(RandomForestRegressor(), \n",
    "                                 X[['f' + str(i) for i in np.arange(n, 31)] +\n",
    "                                   ['year', 'week', 'shift', 'item_id']], y))"
   ]
  },
  {
   "cell_type": "code",
   "execution_count": 172,
   "metadata": {
    "collapsed": false
   },
   "outputs": [
    {
     "data": {
      "image/png": "[encoded data removed]",
      "text/plain": [
       "<matplotlib.figure.Figure at 0x7f27c83e2588>"
      ]
     },
     "metadata": {},
     "output_type": "display_data"
    }
   ],
   "source": [
    "plt.figure(figsize=(17, 4))\n",
    "plt.plot(ns, np.array(rf_scores))\n",
    "plt.show()"
   ]
  },
  {
   "cell_type": "markdown",
   "metadata": {},
   "source": [
    "Давайте выкинем данные до f_n, переберем n.\n",
    "Надо взять n около 21."
   ]
  },
  {
   "cell_type": "code",
   "execution_count": 173,
   "metadata": {
    "collapsed": false
   },
   "outputs": [
    {
     "data": {
      "text/plain": [
       "[33.248894358863701,\n",
       " 32.507210083460173,\n",
       " 31.744576839527888,\n",
       " 32.125825317476327,\n",
       " 31.720579341110316,\n",
       " 30.961565384271204,\n",
       " 31.257566824930354,\n",
       " 31.479390408555112,\n",
       " 32.235177769808118,\n",
       " 31.951708084870511,\n",
       " 31.309131958598101,\n",
       " 31.312646505153833,\n",
       " 32.525127361363545,\n",
       " 34.569716621202339,\n",
       " 38.336367556095986]"
      ]
     },
     "execution_count": 173,
     "metadata": {},
     "output_type": "execute_result"
    }
   ],
   "source": [
    "rf_scores"
   ]
  },
  {
   "cell_type": "code",
   "execution_count": 174,
   "metadata": {
    "collapsed": true
   },
   "outputs": [],
   "source": [
    "dt_scores = []\n",
    "for n in ns:\n",
    "    dt_scores.append(score_model(BaggingRegressor(DecisionTreeRegressor()), \n",
    "                                 X[['f' + str(i) for i in np.arange(n, 31)] + \n",
    "                                   ['year', 'week', 'shift', 'item_id']], y))"
   ]
  },
  {
   "cell_type": "code",
   "execution_count": 175,
   "metadata": {
    "collapsed": false
   },
   "outputs": [
    {
     "data": {
      "image/png": "[encoded data removed]",
      "text/plain": [
       "<matplotlib.figure.Figure at 0x7f27c8a19358>"
      ]
     },
     "metadata": {},
     "output_type": "display_data"
    }
   ],
   "source": [
    "plt.figure(figsize=(17, 4))\n",
    "plt.plot(ns, np.array(dt_scores))\n",
    "plt.show()"
   ]
  },
  {
   "cell_type": "markdown",
   "metadata": {},
   "source": [
    "И для DecisionTreeRegressor, и для RandomForestRegressor мы видим, что n надо выбирать около 21. Возьмем 21."
   ]
  },
  {
   "cell_type": "code",
   "execution_count": 176,
   "metadata": {
    "collapsed": false
   },
   "outputs": [
    {
     "data": {
      "text/plain": [
       "[32.319635959538495,\n",
       " 32.279930481395198,\n",
       " 32.5218424387064,\n",
       " 32.252378198309103,\n",
       " 31.667921950084871,\n",
       " 32.137087067077346,\n",
       " 31.274733159897561,\n",
       " 31.821903939554851,\n",
       " 31.670511703313132,\n",
       " 31.528124404771212,\n",
       " 31.817580543870349,\n",
       " 32.155845043074471,\n",
       " 32.699666906892595,\n",
       " 35.445972662429888,\n",
       " 38.313875979420558]"
      ]
     },
     "execution_count": 176,
     "metadata": {},
     "output_type": "execute_result"
    }
   ],
   "source": [
    "dt_scores"
   ]
  },
  {
   "cell_type": "code",
   "execution_count": 190,
   "metadata": {
    "collapsed": false,
    "deletable": true,
    "editable": true
   },
   "outputs": [
    {
     "data": {
      "text/html": [
       "<div>\n",
       "<table border=\"1\" class=\"dataframe\">\n",
       "  <thead>\n",
       "    <tr style=\"text-align: right;\">\n",
       "      <th></th>\n",
       "      <th>f21</th>\n",
       "      <th>f22</th>\n",
       "      <th>f23</th>\n",
       "      <th>f24</th>\n",
       "      <th>f25</th>\n",
       "      <th>f26</th>\n",
       "      <th>f27</th>\n",
       "      <th>f28</th>\n",
       "      <th>f29</th>\n",
       "      <th>f30</th>\n",
       "      <th>year</th>\n",
       "      <th>week</th>\n",
       "      <th>shift</th>\n",
       "      <th>item_id</th>\n",
       "    </tr>\n",
       "  </thead>\n",
       "  <tbody>\n",
       "    <tr>\n",
       "      <th>0</th>\n",
       "      <td>39423.0</td>\n",
       "      <td>41765.0</td>\n",
       "      <td>52590.0</td>\n",
       "      <td>31452.0</td>\n",
       "      <td>44420.0</td>\n",
       "      <td>41865.0</td>\n",
       "      <td>52705.0</td>\n",
       "      <td>36102.0</td>\n",
       "      <td>44163.0</td>\n",
       "      <td>45239.0</td>\n",
       "      <td>2012</td>\n",
       "      <td>52</td>\n",
       "      <td>1</td>\n",
       "      <td>20442076</td>\n",
       "    </tr>\n",
       "    <tr>\n",
       "      <th>1</th>\n",
       "      <td>22830.0</td>\n",
       "      <td>25230.0</td>\n",
       "      <td>27850.0</td>\n",
       "      <td>21390.0</td>\n",
       "      <td>27090.0</td>\n",
       "      <td>23170.0</td>\n",
       "      <td>29705.0</td>\n",
       "      <td>19140.0</td>\n",
       "      <td>22055.0</td>\n",
       "      <td>23200.0</td>\n",
       "      <td>2012</td>\n",
       "      <td>52</td>\n",
       "      <td>1</td>\n",
       "      <td>20441997</td>\n",
       "    </tr>\n",
       "    <tr>\n",
       "      <th>2</th>\n",
       "      <td>14930.0</td>\n",
       "      <td>44290.0</td>\n",
       "      <td>46412.0</td>\n",
       "      <td>29320.0</td>\n",
       "      <td>21140.0</td>\n",
       "      <td>28406.0</td>\n",
       "      <td>65056.0</td>\n",
       "      <td>31886.0</td>\n",
       "      <td>48750.0</td>\n",
       "      <td>36520.0</td>\n",
       "      <td>2012</td>\n",
       "      <td>52</td>\n",
       "      <td>1</td>\n",
       "      <td>20441990</td>\n",
       "    </tr>\n",
       "    <tr>\n",
       "      <th>3</th>\n",
       "      <td>15120.0</td>\n",
       "      <td>12480.0</td>\n",
       "      <td>19780.0</td>\n",
       "      <td>7990.0</td>\n",
       "      <td>8230.0</td>\n",
       "      <td>10650.0</td>\n",
       "      <td>21920.0</td>\n",
       "      <td>13040.0</td>\n",
       "      <td>9780.0</td>\n",
       "      <td>9630.0</td>\n",
       "      <td>2012</td>\n",
       "      <td>52</td>\n",
       "      <td>1</td>\n",
       "      <td>20441989</td>\n",
       "    </tr>\n",
       "    <tr>\n",
       "      <th>4</th>\n",
       "      <td>18872.0</td>\n",
       "      <td>19328.0</td>\n",
       "      <td>37168.0</td>\n",
       "      <td>13570.0</td>\n",
       "      <td>19760.0</td>\n",
       "      <td>20208.0</td>\n",
       "      <td>34745.0</td>\n",
       "      <td>18442.0</td>\n",
       "      <td>24700.0</td>\n",
       "      <td>21793.0</td>\n",
       "      <td>2012</td>\n",
       "      <td>52</td>\n",
       "      <td>1</td>\n",
       "      <td>20441988</td>\n",
       "    </tr>\n",
       "  </tbody>\n",
       "</table>\n",
       "</div>"
      ],
      "text/plain": [
       "       f21      f22      f23      f24      f25      f26      f27      f28  \\\n",
       "0  39423.0  41765.0  52590.0  31452.0  44420.0  41865.0  52705.0  36102.0   \n",
       "1  22830.0  25230.0  27850.0  21390.0  27090.0  23170.0  29705.0  19140.0   \n",
       "2  14930.0  44290.0  46412.0  29320.0  21140.0  28406.0  65056.0  31886.0   \n",
       "3  15120.0  12480.0  19780.0   7990.0   8230.0  10650.0  21920.0  13040.0   \n",
       "4  18872.0  19328.0  37168.0  13570.0  19760.0  20208.0  34745.0  18442.0   \n",
       "\n",
       "       f29      f30  year  week  shift   item_id  \n",
       "0  44163.0  45239.0  2012    52      1  20442076  \n",
       "1  22055.0  23200.0  2012    52      1  20441997  \n",
       "2  48750.0  36520.0  2012    52      1  20441990  \n",
       "3   9780.0   9630.0  2012    52      1  20441989  \n",
       "4  24700.0  21793.0  2012    52      1  20441988  "
      ]
     },
     "execution_count": 190,
     "metadata": {},
     "output_type": "execute_result"
    }
   ],
   "source": [
    "X_train = train[['f' + str(i) for i in range(21, 31)] + ['year', 'week', 'shift', 'item_id']]\n",
    "X_train.head()"
   ]
  },
  {
   "cell_type": "code",
   "execution_count": 191,
   "metadata": {
    "collapsed": false
   },
   "outputs": [
    {
     "data": {
      "text/html": [
       "<div>\n",
       "<table border=\"1\" class=\"dataframe\">\n",
       "  <thead>\n",
       "    <tr style=\"text-align: right;\">\n",
       "      <th></th>\n",
       "      <th>f21</th>\n",
       "      <th>f22</th>\n",
       "      <th>f23</th>\n",
       "      <th>f24</th>\n",
       "      <th>f25</th>\n",
       "      <th>f26</th>\n",
       "      <th>f27</th>\n",
       "      <th>f28</th>\n",
       "      <th>f29</th>\n",
       "      <th>f30</th>\n",
       "      <th>year</th>\n",
       "      <th>week</th>\n",
       "      <th>shift</th>\n",
       "      <th>item_id</th>\n",
       "    </tr>\n",
       "  </thead>\n",
       "  <tbody>\n",
       "    <tr>\n",
       "      <th>0</th>\n",
       "      <td>1510.0</td>\n",
       "      <td>580.0</td>\n",
       "      <td>969.0</td>\n",
       "      <td>1635.0</td>\n",
       "      <td>895.0</td>\n",
       "      <td>2140.0</td>\n",
       "      <td>1182.0</td>\n",
       "      <td>1020.0</td>\n",
       "      <td>1293.0</td>\n",
       "      <td>1290.0</td>\n",
       "      <td>2015</td>\n",
       "      <td>3</td>\n",
       "      <td>3</td>\n",
       "      <td>20447918</td>\n",
       "    </tr>\n",
       "    <tr>\n",
       "      <th>1</th>\n",
       "      <td>22055.0</td>\n",
       "      <td>14235.0</td>\n",
       "      <td>21195.0</td>\n",
       "      <td>18280.0</td>\n",
       "      <td>18270.0</td>\n",
       "      <td>15851.0</td>\n",
       "      <td>16920.0</td>\n",
       "      <td>18320.0</td>\n",
       "      <td>24116.0</td>\n",
       "      <td>21307.0</td>\n",
       "      <td>2015</td>\n",
       "      <td>3</td>\n",
       "      <td>3</td>\n",
       "      <td>20447902</td>\n",
       "    </tr>\n",
       "    <tr>\n",
       "      <th>2</th>\n",
       "      <td>302165.0</td>\n",
       "      <td>162232.0</td>\n",
       "      <td>221622.0</td>\n",
       "      <td>256605.0</td>\n",
       "      <td>240047.0</td>\n",
       "      <td>236630.0</td>\n",
       "      <td>206697.0</td>\n",
       "      <td>245652.0</td>\n",
       "      <td>286179.0</td>\n",
       "      <td>285904.0</td>\n",
       "      <td>2015</td>\n",
       "      <td>3</td>\n",
       "      <td>3</td>\n",
       "      <td>20447732</td>\n",
       "    </tr>\n",
       "    <tr>\n",
       "      <th>3</th>\n",
       "      <td>39055.0</td>\n",
       "      <td>14445.0</td>\n",
       "      <td>22450.0</td>\n",
       "      <td>22093.0</td>\n",
       "      <td>31175.0</td>\n",
       "      <td>23355.0</td>\n",
       "      <td>15358.0</td>\n",
       "      <td>18930.0</td>\n",
       "      <td>29643.0</td>\n",
       "      <td>33970.0</td>\n",
       "      <td>2015</td>\n",
       "      <td>3</td>\n",
       "      <td>3</td>\n",
       "      <td>20443951</td>\n",
       "    </tr>\n",
       "    <tr>\n",
       "      <th>4</th>\n",
       "      <td>120.0</td>\n",
       "      <td>130.0</td>\n",
       "      <td>60.0</td>\n",
       "      <td>30.0</td>\n",
       "      <td>50.0</td>\n",
       "      <td>20.0</td>\n",
       "      <td>20.0</td>\n",
       "      <td>30.0</td>\n",
       "      <td>0.0</td>\n",
       "      <td>0.0</td>\n",
       "      <td>2015</td>\n",
       "      <td>3</td>\n",
       "      <td>3</td>\n",
       "      <td>20443944</td>\n",
       "    </tr>\n",
       "  </tbody>\n",
       "</table>\n",
       "</div>"
      ],
      "text/plain": [
       "        f21       f22       f23       f24       f25       f26       f27  \\\n",
       "0    1510.0     580.0     969.0    1635.0     895.0    2140.0    1182.0   \n",
       "1   22055.0   14235.0   21195.0   18280.0   18270.0   15851.0   16920.0   \n",
       "2  302165.0  162232.0  221622.0  256605.0  240047.0  236630.0  206697.0   \n",
       "3   39055.0   14445.0   22450.0   22093.0   31175.0   23355.0   15358.0   \n",
       "4     120.0     130.0      60.0      30.0      50.0      20.0      20.0   \n",
       "\n",
       "        f28       f29       f30  year  week  shift   item_id  \n",
       "0    1020.0    1293.0    1290.0  2015     3      3  20447918  \n",
       "1   18320.0   24116.0   21307.0  2015     3      3  20447902  \n",
       "2  245652.0  286179.0  285904.0  2015     3      3  20447732  \n",
       "3   18930.0   29643.0   33970.0  2015     3      3  20443951  \n",
       "4      30.0       0.0       0.0  2015     3      3  20443944  "
      ]
     },
     "execution_count": 191,
     "metadata": {},
     "output_type": "execute_result"
    }
   ],
   "source": [
    "X_test = test[['f' + str(i) for i in range(21, 31)] + ['year', 'week', 'shift', 'item_id']]\n",
    "X_test.head()"
   ]
  },
  {
   "cell_type": "code",
   "execution_count": 192,
   "metadata": {
    "collapsed": false
   },
   "outputs": [],
   "source": [
    "model = RandomForestRegressor()\n",
    "model.fit(X_train, train['y'])\n",
    "preds = model.predict(X_test)"
   ]
  },
  {
   "cell_type": "code",
   "execution_count": 193,
   "metadata": {
    "collapsed": false,
    "deletable": true,
    "editable": true
   },
   "outputs": [
    {
     "data": {
      "text/html": [
       "<div>\n",
       "<table border=\"1\" class=\"dataframe\">\n",
       "  <thead>\n",
       "    <tr style=\"text-align: right;\">\n",
       "      <th></th>\n",
       "      <th>Num</th>\n",
       "      <th>y</th>\n",
       "    </tr>\n",
       "  </thead>\n",
       "  <tbody>\n",
       "    <tr>\n",
       "      <th>0</th>\n",
       "      <td>348622</td>\n",
       "      <td>2794.1</td>\n",
       "    </tr>\n",
       "    <tr>\n",
       "      <th>1</th>\n",
       "      <td>348623</td>\n",
       "      <td>27311.6</td>\n",
       "    </tr>\n",
       "    <tr>\n",
       "      <th>2</th>\n",
       "      <td>348624</td>\n",
       "      <td>314837.5</td>\n",
       "    </tr>\n",
       "    <tr>\n",
       "      <th>3</th>\n",
       "      <td>348625</td>\n",
       "      <td>32043.4</td>\n",
       "    </tr>\n",
       "    <tr>\n",
       "      <th>4</th>\n",
       "      <td>348626</td>\n",
       "      <td>17.6</td>\n",
       "    </tr>\n",
       "  </tbody>\n",
       "</table>\n",
       "</div>"
      ],
      "text/plain": [
       "      Num         y\n",
       "0  348622    2794.1\n",
       "1  348623   27311.6\n",
       "2  348624  314837.5\n",
       "3  348625   32043.4\n",
       "4  348626      17.6"
      ]
     },
     "execution_count": 193,
     "metadata": {},
     "output_type": "execute_result"
    }
   ],
   "source": [
    "sample_submission['y'] = preds\n",
    "sample_submission.head(5)"
   ]
  },
  {
   "cell_type": "code",
   "execution_count": 194,
   "metadata": {
    "collapsed": true,
    "deletable": true,
    "editable": true
   },
   "outputs": [],
   "source": [
    "sample_submission['y'] = sample_submission['y'].map(lambda x: x if x > 0 else 0.0)"
   ]
  },
  {
   "cell_type": "code",
   "execution_count": 195,
   "metadata": {
    "collapsed": true,
    "deletable": true,
    "editable": true
   },
   "outputs": [],
   "source": [
    "sample_submission.to_csv(\"garkavyy_clever_random_forest_submission.tsv\", sep=',', index=False)"
   ]
  },
  {
   "cell_type": "markdown",
   "metadata": {},
   "source": [
    "Итоговый SMAPE мы получили 26, что еще хуже, очень грустно, но что поделать."
   ]
  }
 ],
 "metadata": {
  "kernelspec": {
   "display_name": "Python 3",
   "language": "python",
   "name": "python3"
  },
  "language_info": {
   "codemirror_mode": {
    "name": "ipython",
    "version": 3
   },
   "file_extension": ".py",
   "mimetype": "text/x-python",
   "name": "python",
   "nbconvert_exporter": "python",
   "pygments_lexer": "ipython3",
   "version": "3.5.2"
  }
 },
 "nbformat": 4,
 "nbformat_minor": 2
}
